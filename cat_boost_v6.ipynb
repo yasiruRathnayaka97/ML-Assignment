{
  "nbformat": 4,
  "nbformat_minor": 0,
  "metadata": {
    "colab": {
      "name": "CatBoost_v6.ipynb",
      "provenance": []
    },
    "kernelspec": {
      "name": "python3",
      "display_name": "Python 3"
    },
    "language_info": {
      "name": "python"
    }
  },
  "cells": [
    {
      "cell_type": "code",
      "metadata": {
        "id": "XVLfa9doSVmB"
      },
      "source": [
        "import pandas as pd\n",
        "import seaborn as sns"
      ],
      "execution_count": 1209,
      "outputs": []
    },
    {
      "cell_type": "code",
      "metadata": {
        "colab": {
          "base_uri": "https://localhost:8080/"
        },
        "id": "VjeoF1Pzj25b",
        "outputId": "37dd479e-730c-4270-f266-9272e943b1b9"
      },
      "source": [
        "from google.colab import drive\n",
        "drive.mount('/content/drive')"
      ],
      "execution_count": 1210,
      "outputs": [
        {
          "output_type": "stream",
          "name": "stdout",
          "text": [
            "Drive already mounted at /content/drive; to attempt to forcibly remount, call drive.mount(\"/content/drive\", force_remount=True).\n"
          ]
        }
      ]
    },
    {
      "cell_type": "code",
      "metadata": {
        "colab": {
          "base_uri": "https://localhost:8080/"
        },
        "id": "NK2pNl2kkUxP",
        "outputId": "721dc6c6-b0f8-4028-ccbe-b28cddece21f"
      },
      "source": [
        "%cd /content/drive/MyDrive/Colab Notebooks"
      ],
      "execution_count": 1211,
      "outputs": [
        {
          "output_type": "stream",
          "name": "stdout",
          "text": [
            "/content/drive/MyDrive/Colab Notebooks\n"
          ]
        }
      ]
    },
    {
      "cell_type": "code",
      "metadata": {
        "id": "djhCpqSGje9q"
      },
      "source": [
        "training_set_labels=pd.read_csv(\"Training set labels.csv\",index_col=[\"id\"])\n",
        "training_set_values=pd.read_csv(\"Training set values.csv\",index_col=[\"id\"])\n",
        "test_set_values=pd.read_csv(\"Test set values.csv\",index_col=[\"id\"])"
      ],
      "execution_count": 1212,
      "outputs": []
    },
    {
      "cell_type": "code",
      "metadata": {
        "id": "nsC7tHsEjsmi"
      },
      "source": [
        "training_set=training_set_values.join(training_set_labels)"
      ],
      "execution_count": 1213,
      "outputs": []
    },
    {
      "cell_type": "code",
      "metadata": {
        "colab": {
          "base_uri": "https://localhost:8080/",
          "height": 438
        },
        "id": "HID-Xi9el4b5",
        "outputId": "574cf86d-2df7-491b-b32f-d93242964771"
      },
      "source": [
        "training_set.head()"
      ],
      "execution_count": 1214,
      "outputs": [
        {
          "output_type": "execute_result",
          "data": {
            "text/html": [
              "<div>\n",
              "<style scoped>\n",
              "    .dataframe tbody tr th:only-of-type {\n",
              "        vertical-align: middle;\n",
              "    }\n",
              "\n",
              "    .dataframe tbody tr th {\n",
              "        vertical-align: top;\n",
              "    }\n",
              "\n",
              "    .dataframe thead th {\n",
              "        text-align: right;\n",
              "    }\n",
              "</style>\n",
              "<table border=\"1\" class=\"dataframe\">\n",
              "  <thead>\n",
              "    <tr style=\"text-align: right;\">\n",
              "      <th></th>\n",
              "      <th>amount_tsh</th>\n",
              "      <th>date_recorded</th>\n",
              "      <th>funder</th>\n",
              "      <th>gps_height</th>\n",
              "      <th>installer</th>\n",
              "      <th>longitude</th>\n",
              "      <th>latitude</th>\n",
              "      <th>wpt_name</th>\n",
              "      <th>num_private</th>\n",
              "      <th>basin</th>\n",
              "      <th>subvillage</th>\n",
              "      <th>region</th>\n",
              "      <th>region_code</th>\n",
              "      <th>district_code</th>\n",
              "      <th>lga</th>\n",
              "      <th>ward</th>\n",
              "      <th>population</th>\n",
              "      <th>public_meeting</th>\n",
              "      <th>recorded_by</th>\n",
              "      <th>scheme_management</th>\n",
              "      <th>scheme_name</th>\n",
              "      <th>permit</th>\n",
              "      <th>construction_year</th>\n",
              "      <th>extraction_type</th>\n",
              "      <th>extraction_type_group</th>\n",
              "      <th>extraction_type_class</th>\n",
              "      <th>management</th>\n",
              "      <th>management_group</th>\n",
              "      <th>payment</th>\n",
              "      <th>payment_type</th>\n",
              "      <th>water_quality</th>\n",
              "      <th>quality_group</th>\n",
              "      <th>quantity</th>\n",
              "      <th>quantity_group</th>\n",
              "      <th>source</th>\n",
              "      <th>source_type</th>\n",
              "      <th>source_class</th>\n",
              "      <th>waterpoint_type</th>\n",
              "      <th>waterpoint_type_group</th>\n",
              "      <th>status_group</th>\n",
              "    </tr>\n",
              "    <tr>\n",
              "      <th>id</th>\n",
              "      <th></th>\n",
              "      <th></th>\n",
              "      <th></th>\n",
              "      <th></th>\n",
              "      <th></th>\n",
              "      <th></th>\n",
              "      <th></th>\n",
              "      <th></th>\n",
              "      <th></th>\n",
              "      <th></th>\n",
              "      <th></th>\n",
              "      <th></th>\n",
              "      <th></th>\n",
              "      <th></th>\n",
              "      <th></th>\n",
              "      <th></th>\n",
              "      <th></th>\n",
              "      <th></th>\n",
              "      <th></th>\n",
              "      <th></th>\n",
              "      <th></th>\n",
              "      <th></th>\n",
              "      <th></th>\n",
              "      <th></th>\n",
              "      <th></th>\n",
              "      <th></th>\n",
              "      <th></th>\n",
              "      <th></th>\n",
              "      <th></th>\n",
              "      <th></th>\n",
              "      <th></th>\n",
              "      <th></th>\n",
              "      <th></th>\n",
              "      <th></th>\n",
              "      <th></th>\n",
              "      <th></th>\n",
              "      <th></th>\n",
              "      <th></th>\n",
              "      <th></th>\n",
              "      <th></th>\n",
              "    </tr>\n",
              "  </thead>\n",
              "  <tbody>\n",
              "    <tr>\n",
              "      <th>69572</th>\n",
              "      <td>6000.0</td>\n",
              "      <td>2011-03-14</td>\n",
              "      <td>Roman</td>\n",
              "      <td>1390</td>\n",
              "      <td>Roman</td>\n",
              "      <td>34.938093</td>\n",
              "      <td>-9.856322</td>\n",
              "      <td>none</td>\n",
              "      <td>0</td>\n",
              "      <td>Lake Nyasa</td>\n",
              "      <td>Mnyusi B</td>\n",
              "      <td>Iringa</td>\n",
              "      <td>11</td>\n",
              "      <td>5</td>\n",
              "      <td>Ludewa</td>\n",
              "      <td>Mundindi</td>\n",
              "      <td>109</td>\n",
              "      <td>True</td>\n",
              "      <td>GeoData Consultants Ltd</td>\n",
              "      <td>VWC</td>\n",
              "      <td>Roman</td>\n",
              "      <td>False</td>\n",
              "      <td>1999</td>\n",
              "      <td>gravity</td>\n",
              "      <td>gravity</td>\n",
              "      <td>gravity</td>\n",
              "      <td>vwc</td>\n",
              "      <td>user-group</td>\n",
              "      <td>pay annually</td>\n",
              "      <td>annually</td>\n",
              "      <td>soft</td>\n",
              "      <td>good</td>\n",
              "      <td>enough</td>\n",
              "      <td>enough</td>\n",
              "      <td>spring</td>\n",
              "      <td>spring</td>\n",
              "      <td>groundwater</td>\n",
              "      <td>communal standpipe</td>\n",
              "      <td>communal standpipe</td>\n",
              "      <td>functional</td>\n",
              "    </tr>\n",
              "    <tr>\n",
              "      <th>8776</th>\n",
              "      <td>0.0</td>\n",
              "      <td>2013-03-06</td>\n",
              "      <td>Grumeti</td>\n",
              "      <td>1399</td>\n",
              "      <td>GRUMETI</td>\n",
              "      <td>34.698766</td>\n",
              "      <td>-2.147466</td>\n",
              "      <td>Zahanati</td>\n",
              "      <td>0</td>\n",
              "      <td>Lake Victoria</td>\n",
              "      <td>Nyamara</td>\n",
              "      <td>Mara</td>\n",
              "      <td>20</td>\n",
              "      <td>2</td>\n",
              "      <td>Serengeti</td>\n",
              "      <td>Natta</td>\n",
              "      <td>280</td>\n",
              "      <td>NaN</td>\n",
              "      <td>GeoData Consultants Ltd</td>\n",
              "      <td>Other</td>\n",
              "      <td>NaN</td>\n",
              "      <td>True</td>\n",
              "      <td>2010</td>\n",
              "      <td>gravity</td>\n",
              "      <td>gravity</td>\n",
              "      <td>gravity</td>\n",
              "      <td>wug</td>\n",
              "      <td>user-group</td>\n",
              "      <td>never pay</td>\n",
              "      <td>never pay</td>\n",
              "      <td>soft</td>\n",
              "      <td>good</td>\n",
              "      <td>insufficient</td>\n",
              "      <td>insufficient</td>\n",
              "      <td>rainwater harvesting</td>\n",
              "      <td>rainwater harvesting</td>\n",
              "      <td>surface</td>\n",
              "      <td>communal standpipe</td>\n",
              "      <td>communal standpipe</td>\n",
              "      <td>functional</td>\n",
              "    </tr>\n",
              "    <tr>\n",
              "      <th>34310</th>\n",
              "      <td>25.0</td>\n",
              "      <td>2013-02-25</td>\n",
              "      <td>Lottery Club</td>\n",
              "      <td>686</td>\n",
              "      <td>World vision</td>\n",
              "      <td>37.460664</td>\n",
              "      <td>-3.821329</td>\n",
              "      <td>Kwa Mahundi</td>\n",
              "      <td>0</td>\n",
              "      <td>Pangani</td>\n",
              "      <td>Majengo</td>\n",
              "      <td>Manyara</td>\n",
              "      <td>21</td>\n",
              "      <td>4</td>\n",
              "      <td>Simanjiro</td>\n",
              "      <td>Ngorika</td>\n",
              "      <td>250</td>\n",
              "      <td>True</td>\n",
              "      <td>GeoData Consultants Ltd</td>\n",
              "      <td>VWC</td>\n",
              "      <td>Nyumba ya mungu pipe scheme</td>\n",
              "      <td>True</td>\n",
              "      <td>2009</td>\n",
              "      <td>gravity</td>\n",
              "      <td>gravity</td>\n",
              "      <td>gravity</td>\n",
              "      <td>vwc</td>\n",
              "      <td>user-group</td>\n",
              "      <td>pay per bucket</td>\n",
              "      <td>per bucket</td>\n",
              "      <td>soft</td>\n",
              "      <td>good</td>\n",
              "      <td>enough</td>\n",
              "      <td>enough</td>\n",
              "      <td>dam</td>\n",
              "      <td>dam</td>\n",
              "      <td>surface</td>\n",
              "      <td>communal standpipe multiple</td>\n",
              "      <td>communal standpipe</td>\n",
              "      <td>functional</td>\n",
              "    </tr>\n",
              "    <tr>\n",
              "      <th>67743</th>\n",
              "      <td>0.0</td>\n",
              "      <td>2013-01-28</td>\n",
              "      <td>Unicef</td>\n",
              "      <td>263</td>\n",
              "      <td>UNICEF</td>\n",
              "      <td>38.486161</td>\n",
              "      <td>-11.155298</td>\n",
              "      <td>Zahanati Ya Nanyumbu</td>\n",
              "      <td>0</td>\n",
              "      <td>Ruvuma / Southern Coast</td>\n",
              "      <td>Mahakamani</td>\n",
              "      <td>Mtwara</td>\n",
              "      <td>90</td>\n",
              "      <td>63</td>\n",
              "      <td>Nanyumbu</td>\n",
              "      <td>Nanyumbu</td>\n",
              "      <td>58</td>\n",
              "      <td>True</td>\n",
              "      <td>GeoData Consultants Ltd</td>\n",
              "      <td>VWC</td>\n",
              "      <td>NaN</td>\n",
              "      <td>True</td>\n",
              "      <td>1986</td>\n",
              "      <td>submersible</td>\n",
              "      <td>submersible</td>\n",
              "      <td>submersible</td>\n",
              "      <td>vwc</td>\n",
              "      <td>user-group</td>\n",
              "      <td>never pay</td>\n",
              "      <td>never pay</td>\n",
              "      <td>soft</td>\n",
              "      <td>good</td>\n",
              "      <td>dry</td>\n",
              "      <td>dry</td>\n",
              "      <td>machine dbh</td>\n",
              "      <td>borehole</td>\n",
              "      <td>groundwater</td>\n",
              "      <td>communal standpipe multiple</td>\n",
              "      <td>communal standpipe</td>\n",
              "      <td>non functional</td>\n",
              "    </tr>\n",
              "    <tr>\n",
              "      <th>19728</th>\n",
              "      <td>0.0</td>\n",
              "      <td>2011-07-13</td>\n",
              "      <td>Action In A</td>\n",
              "      <td>0</td>\n",
              "      <td>Artisan</td>\n",
              "      <td>31.130847</td>\n",
              "      <td>-1.825359</td>\n",
              "      <td>Shuleni</td>\n",
              "      <td>0</td>\n",
              "      <td>Lake Victoria</td>\n",
              "      <td>Kyanyamisa</td>\n",
              "      <td>Kagera</td>\n",
              "      <td>18</td>\n",
              "      <td>1</td>\n",
              "      <td>Karagwe</td>\n",
              "      <td>Nyakasimbi</td>\n",
              "      <td>0</td>\n",
              "      <td>True</td>\n",
              "      <td>GeoData Consultants Ltd</td>\n",
              "      <td>NaN</td>\n",
              "      <td>NaN</td>\n",
              "      <td>True</td>\n",
              "      <td>0</td>\n",
              "      <td>gravity</td>\n",
              "      <td>gravity</td>\n",
              "      <td>gravity</td>\n",
              "      <td>other</td>\n",
              "      <td>other</td>\n",
              "      <td>never pay</td>\n",
              "      <td>never pay</td>\n",
              "      <td>soft</td>\n",
              "      <td>good</td>\n",
              "      <td>seasonal</td>\n",
              "      <td>seasonal</td>\n",
              "      <td>rainwater harvesting</td>\n",
              "      <td>rainwater harvesting</td>\n",
              "      <td>surface</td>\n",
              "      <td>communal standpipe</td>\n",
              "      <td>communal standpipe</td>\n",
              "      <td>functional</td>\n",
              "    </tr>\n",
              "  </tbody>\n",
              "</table>\n",
              "</div>"
            ],
            "text/plain": [
              "       amount_tsh date_recorded  ... waterpoint_type_group    status_group\n",
              "id                               ...                                      \n",
              "69572      6000.0    2011-03-14  ...    communal standpipe      functional\n",
              "8776          0.0    2013-03-06  ...    communal standpipe      functional\n",
              "34310        25.0    2013-02-25  ...    communal standpipe      functional\n",
              "67743         0.0    2013-01-28  ...    communal standpipe  non functional\n",
              "19728         0.0    2011-07-13  ...    communal standpipe      functional\n",
              "\n",
              "[5 rows x 40 columns]"
            ]
          },
          "metadata": {},
          "execution_count": 1214
        }
      ]
    },
    {
      "cell_type": "code",
      "metadata": {
        "colab": {
          "base_uri": "https://localhost:8080/",
          "height": 455
        },
        "id": "EMxF1MwcDPWm",
        "outputId": "9aec8687-2ca5-42cf-aa99-aab753d9e163"
      },
      "source": [
        "test_set_values.head()"
      ],
      "execution_count": 1215,
      "outputs": [
        {
          "output_type": "execute_result",
          "data": {
            "text/html": [
              "<div>\n",
              "<style scoped>\n",
              "    .dataframe tbody tr th:only-of-type {\n",
              "        vertical-align: middle;\n",
              "    }\n",
              "\n",
              "    .dataframe tbody tr th {\n",
              "        vertical-align: top;\n",
              "    }\n",
              "\n",
              "    .dataframe thead th {\n",
              "        text-align: right;\n",
              "    }\n",
              "</style>\n",
              "<table border=\"1\" class=\"dataframe\">\n",
              "  <thead>\n",
              "    <tr style=\"text-align: right;\">\n",
              "      <th></th>\n",
              "      <th>amount_tsh</th>\n",
              "      <th>date_recorded</th>\n",
              "      <th>funder</th>\n",
              "      <th>gps_height</th>\n",
              "      <th>installer</th>\n",
              "      <th>longitude</th>\n",
              "      <th>latitude</th>\n",
              "      <th>wpt_name</th>\n",
              "      <th>num_private</th>\n",
              "      <th>basin</th>\n",
              "      <th>subvillage</th>\n",
              "      <th>region</th>\n",
              "      <th>region_code</th>\n",
              "      <th>district_code</th>\n",
              "      <th>lga</th>\n",
              "      <th>ward</th>\n",
              "      <th>population</th>\n",
              "      <th>public_meeting</th>\n",
              "      <th>recorded_by</th>\n",
              "      <th>scheme_management</th>\n",
              "      <th>scheme_name</th>\n",
              "      <th>permit</th>\n",
              "      <th>construction_year</th>\n",
              "      <th>extraction_type</th>\n",
              "      <th>extraction_type_group</th>\n",
              "      <th>extraction_type_class</th>\n",
              "      <th>management</th>\n",
              "      <th>management_group</th>\n",
              "      <th>payment</th>\n",
              "      <th>payment_type</th>\n",
              "      <th>water_quality</th>\n",
              "      <th>quality_group</th>\n",
              "      <th>quantity</th>\n",
              "      <th>quantity_group</th>\n",
              "      <th>source</th>\n",
              "      <th>source_type</th>\n",
              "      <th>source_class</th>\n",
              "      <th>waterpoint_type</th>\n",
              "      <th>waterpoint_type_group</th>\n",
              "    </tr>\n",
              "    <tr>\n",
              "      <th>id</th>\n",
              "      <th></th>\n",
              "      <th></th>\n",
              "      <th></th>\n",
              "      <th></th>\n",
              "      <th></th>\n",
              "      <th></th>\n",
              "      <th></th>\n",
              "      <th></th>\n",
              "      <th></th>\n",
              "      <th></th>\n",
              "      <th></th>\n",
              "      <th></th>\n",
              "      <th></th>\n",
              "      <th></th>\n",
              "      <th></th>\n",
              "      <th></th>\n",
              "      <th></th>\n",
              "      <th></th>\n",
              "      <th></th>\n",
              "      <th></th>\n",
              "      <th></th>\n",
              "      <th></th>\n",
              "      <th></th>\n",
              "      <th></th>\n",
              "      <th></th>\n",
              "      <th></th>\n",
              "      <th></th>\n",
              "      <th></th>\n",
              "      <th></th>\n",
              "      <th></th>\n",
              "      <th></th>\n",
              "      <th></th>\n",
              "      <th></th>\n",
              "      <th></th>\n",
              "      <th></th>\n",
              "      <th></th>\n",
              "      <th></th>\n",
              "      <th></th>\n",
              "      <th></th>\n",
              "    </tr>\n",
              "  </thead>\n",
              "  <tbody>\n",
              "    <tr>\n",
              "      <th>50785</th>\n",
              "      <td>0.0</td>\n",
              "      <td>2013-02-04</td>\n",
              "      <td>Dmdd</td>\n",
              "      <td>1996</td>\n",
              "      <td>DMDD</td>\n",
              "      <td>35.290799</td>\n",
              "      <td>-4.059696</td>\n",
              "      <td>Dinamu Secondary School</td>\n",
              "      <td>0</td>\n",
              "      <td>Internal</td>\n",
              "      <td>Magoma</td>\n",
              "      <td>Manyara</td>\n",
              "      <td>21</td>\n",
              "      <td>3</td>\n",
              "      <td>Mbulu</td>\n",
              "      <td>Bashay</td>\n",
              "      <td>321</td>\n",
              "      <td>True</td>\n",
              "      <td>GeoData Consultants Ltd</td>\n",
              "      <td>Parastatal</td>\n",
              "      <td>NaN</td>\n",
              "      <td>True</td>\n",
              "      <td>2012</td>\n",
              "      <td>other</td>\n",
              "      <td>other</td>\n",
              "      <td>other</td>\n",
              "      <td>parastatal</td>\n",
              "      <td>parastatal</td>\n",
              "      <td>never pay</td>\n",
              "      <td>never pay</td>\n",
              "      <td>soft</td>\n",
              "      <td>good</td>\n",
              "      <td>seasonal</td>\n",
              "      <td>seasonal</td>\n",
              "      <td>rainwater harvesting</td>\n",
              "      <td>rainwater harvesting</td>\n",
              "      <td>surface</td>\n",
              "      <td>other</td>\n",
              "      <td>other</td>\n",
              "    </tr>\n",
              "    <tr>\n",
              "      <th>51630</th>\n",
              "      <td>0.0</td>\n",
              "      <td>2013-02-04</td>\n",
              "      <td>Government Of Tanzania</td>\n",
              "      <td>1569</td>\n",
              "      <td>DWE</td>\n",
              "      <td>36.656709</td>\n",
              "      <td>-3.309214</td>\n",
              "      <td>Kimnyak</td>\n",
              "      <td>0</td>\n",
              "      <td>Pangani</td>\n",
              "      <td>Kimnyak</td>\n",
              "      <td>Arusha</td>\n",
              "      <td>2</td>\n",
              "      <td>2</td>\n",
              "      <td>Arusha Rural</td>\n",
              "      <td>Kimnyaki</td>\n",
              "      <td>300</td>\n",
              "      <td>True</td>\n",
              "      <td>GeoData Consultants Ltd</td>\n",
              "      <td>VWC</td>\n",
              "      <td>TPRI pipe line</td>\n",
              "      <td>True</td>\n",
              "      <td>2000</td>\n",
              "      <td>gravity</td>\n",
              "      <td>gravity</td>\n",
              "      <td>gravity</td>\n",
              "      <td>vwc</td>\n",
              "      <td>user-group</td>\n",
              "      <td>never pay</td>\n",
              "      <td>never pay</td>\n",
              "      <td>soft</td>\n",
              "      <td>good</td>\n",
              "      <td>insufficient</td>\n",
              "      <td>insufficient</td>\n",
              "      <td>spring</td>\n",
              "      <td>spring</td>\n",
              "      <td>groundwater</td>\n",
              "      <td>communal standpipe</td>\n",
              "      <td>communal standpipe</td>\n",
              "    </tr>\n",
              "    <tr>\n",
              "      <th>17168</th>\n",
              "      <td>0.0</td>\n",
              "      <td>2013-02-01</td>\n",
              "      <td>NaN</td>\n",
              "      <td>1567</td>\n",
              "      <td>NaN</td>\n",
              "      <td>34.767863</td>\n",
              "      <td>-5.004344</td>\n",
              "      <td>Puma Secondary</td>\n",
              "      <td>0</td>\n",
              "      <td>Internal</td>\n",
              "      <td>Msatu</td>\n",
              "      <td>Singida</td>\n",
              "      <td>13</td>\n",
              "      <td>2</td>\n",
              "      <td>Singida Rural</td>\n",
              "      <td>Puma</td>\n",
              "      <td>500</td>\n",
              "      <td>True</td>\n",
              "      <td>GeoData Consultants Ltd</td>\n",
              "      <td>VWC</td>\n",
              "      <td>P</td>\n",
              "      <td>NaN</td>\n",
              "      <td>2010</td>\n",
              "      <td>other</td>\n",
              "      <td>other</td>\n",
              "      <td>other</td>\n",
              "      <td>vwc</td>\n",
              "      <td>user-group</td>\n",
              "      <td>never pay</td>\n",
              "      <td>never pay</td>\n",
              "      <td>soft</td>\n",
              "      <td>good</td>\n",
              "      <td>insufficient</td>\n",
              "      <td>insufficient</td>\n",
              "      <td>rainwater harvesting</td>\n",
              "      <td>rainwater harvesting</td>\n",
              "      <td>surface</td>\n",
              "      <td>other</td>\n",
              "      <td>other</td>\n",
              "    </tr>\n",
              "    <tr>\n",
              "      <th>45559</th>\n",
              "      <td>0.0</td>\n",
              "      <td>2013-01-22</td>\n",
              "      <td>Finn Water</td>\n",
              "      <td>267</td>\n",
              "      <td>FINN WATER</td>\n",
              "      <td>38.058046</td>\n",
              "      <td>-9.418672</td>\n",
              "      <td>Kwa Mzee Pange</td>\n",
              "      <td>0</td>\n",
              "      <td>Ruvuma / Southern Coast</td>\n",
              "      <td>Kipindimbi</td>\n",
              "      <td>Lindi</td>\n",
              "      <td>80</td>\n",
              "      <td>43</td>\n",
              "      <td>Liwale</td>\n",
              "      <td>Mkutano</td>\n",
              "      <td>250</td>\n",
              "      <td>NaN</td>\n",
              "      <td>GeoData Consultants Ltd</td>\n",
              "      <td>VWC</td>\n",
              "      <td>NaN</td>\n",
              "      <td>True</td>\n",
              "      <td>1987</td>\n",
              "      <td>other</td>\n",
              "      <td>other</td>\n",
              "      <td>other</td>\n",
              "      <td>vwc</td>\n",
              "      <td>user-group</td>\n",
              "      <td>unknown</td>\n",
              "      <td>unknown</td>\n",
              "      <td>soft</td>\n",
              "      <td>good</td>\n",
              "      <td>dry</td>\n",
              "      <td>dry</td>\n",
              "      <td>shallow well</td>\n",
              "      <td>shallow well</td>\n",
              "      <td>groundwater</td>\n",
              "      <td>other</td>\n",
              "      <td>other</td>\n",
              "    </tr>\n",
              "    <tr>\n",
              "      <th>49871</th>\n",
              "      <td>500.0</td>\n",
              "      <td>2013-03-27</td>\n",
              "      <td>Bruder</td>\n",
              "      <td>1260</td>\n",
              "      <td>BRUDER</td>\n",
              "      <td>35.006123</td>\n",
              "      <td>-10.950412</td>\n",
              "      <td>Kwa Mzee Turuka</td>\n",
              "      <td>0</td>\n",
              "      <td>Ruvuma / Southern Coast</td>\n",
              "      <td>Losonga</td>\n",
              "      <td>Ruvuma</td>\n",
              "      <td>10</td>\n",
              "      <td>3</td>\n",
              "      <td>Mbinga</td>\n",
              "      <td>Mbinga Urban</td>\n",
              "      <td>60</td>\n",
              "      <td>NaN</td>\n",
              "      <td>GeoData Consultants Ltd</td>\n",
              "      <td>Water Board</td>\n",
              "      <td>BRUDER</td>\n",
              "      <td>True</td>\n",
              "      <td>2000</td>\n",
              "      <td>gravity</td>\n",
              "      <td>gravity</td>\n",
              "      <td>gravity</td>\n",
              "      <td>water board</td>\n",
              "      <td>user-group</td>\n",
              "      <td>pay monthly</td>\n",
              "      <td>monthly</td>\n",
              "      <td>soft</td>\n",
              "      <td>good</td>\n",
              "      <td>enough</td>\n",
              "      <td>enough</td>\n",
              "      <td>spring</td>\n",
              "      <td>spring</td>\n",
              "      <td>groundwater</td>\n",
              "      <td>communal standpipe</td>\n",
              "      <td>communal standpipe</td>\n",
              "    </tr>\n",
              "  </tbody>\n",
              "</table>\n",
              "</div>"
            ],
            "text/plain": [
              "       amount_tsh date_recorded  ...     waterpoint_type  waterpoint_type_group\n",
              "id                               ...                                           \n",
              "50785         0.0    2013-02-04  ...               other                  other\n",
              "51630         0.0    2013-02-04  ...  communal standpipe     communal standpipe\n",
              "17168         0.0    2013-02-01  ...               other                  other\n",
              "45559         0.0    2013-01-22  ...               other                  other\n",
              "49871       500.0    2013-03-27  ...  communal standpipe     communal standpipe\n",
              "\n",
              "[5 rows x 39 columns]"
            ]
          },
          "metadata": {},
          "execution_count": 1215
        }
      ]
    },
    {
      "cell_type": "code",
      "metadata": {
        "colab": {
          "base_uri": "https://localhost:8080/"
        },
        "id": "Mlx0og84nq_m",
        "outputId": "5f39a77a-8794-480a-9913-4b569a5ed610"
      },
      "source": [
        "print(\"Training set:\")\n",
        "print(\"Nan values:\\n\")\n",
        "print(training_set.isna().sum())\n",
        "print(\"\\n\")\n",
        "print(\"dupliacte rows:\\n\")\n",
        "print(training_set.duplicated().sum())"
      ],
      "execution_count": 1216,
      "outputs": [
        {
          "output_type": "stream",
          "name": "stdout",
          "text": [
            "Training set:\n",
            "Nan values:\n",
            "\n",
            "amount_tsh                   0\n",
            "date_recorded                0\n",
            "funder                    3635\n",
            "gps_height                   0\n",
            "installer                 3655\n",
            "longitude                    0\n",
            "latitude                     0\n",
            "wpt_name                     0\n",
            "num_private                  0\n",
            "basin                        0\n",
            "subvillage                 371\n",
            "region                       0\n",
            "region_code                  0\n",
            "district_code                0\n",
            "lga                          0\n",
            "ward                         0\n",
            "population                   0\n",
            "public_meeting            3334\n",
            "recorded_by                  0\n",
            "scheme_management         3877\n",
            "scheme_name              28166\n",
            "permit                    3056\n",
            "construction_year            0\n",
            "extraction_type              0\n",
            "extraction_type_group        0\n",
            "extraction_type_class        0\n",
            "management                   0\n",
            "management_group             0\n",
            "payment                      0\n",
            "payment_type                 0\n",
            "water_quality                0\n",
            "quality_group                0\n",
            "quantity                     0\n",
            "quantity_group               0\n",
            "source                       0\n",
            "source_type                  0\n",
            "source_class                 0\n",
            "waterpoint_type              0\n",
            "waterpoint_type_group        0\n",
            "status_group                 0\n",
            "dtype: int64\n",
            "\n",
            "\n",
            "dupliacte rows:\n",
            "\n",
            "36\n"
          ]
        }
      ]
    },
    {
      "cell_type": "code",
      "metadata": {
        "colab": {
          "base_uri": "https://localhost:8080/"
        },
        "id": "NbjfJPA2BC0I",
        "outputId": "943cfc51-1764-4887-882f-4a11892f4ccf"
      },
      "source": [
        "print(\"Testing set:\")\n",
        "print(\"Nan values:\\n\")\n",
        "print(test_set_values.isna().sum())\n",
        "print(\"\\n\")\n",
        "print(\"dupliacte rows:\\n\")\n",
        "print(test_set_values.duplicated().sum())"
      ],
      "execution_count": 1217,
      "outputs": [
        {
          "output_type": "stream",
          "name": "stdout",
          "text": [
            "Testing set:\n",
            "Nan values:\n",
            "\n",
            "amount_tsh                  0\n",
            "date_recorded               0\n",
            "funder                    869\n",
            "gps_height                  0\n",
            "installer                 877\n",
            "longitude                   0\n",
            "latitude                    0\n",
            "wpt_name                    0\n",
            "num_private                 0\n",
            "basin                       0\n",
            "subvillage                 99\n",
            "region                      0\n",
            "region_code                 0\n",
            "district_code               0\n",
            "lga                         0\n",
            "ward                        0\n",
            "population                  0\n",
            "public_meeting            821\n",
            "recorded_by                 0\n",
            "scheme_management         969\n",
            "scheme_name              7092\n",
            "permit                    737\n",
            "construction_year           0\n",
            "extraction_type             0\n",
            "extraction_type_group       0\n",
            "extraction_type_class       0\n",
            "management                  0\n",
            "management_group            0\n",
            "payment                     0\n",
            "payment_type                0\n",
            "water_quality               0\n",
            "quality_group               0\n",
            "quantity                    0\n",
            "quantity_group              0\n",
            "source                      0\n",
            "source_type                 0\n",
            "source_class                0\n",
            "waterpoint_type             0\n",
            "waterpoint_type_group       0\n",
            "dtype: int64\n",
            "\n",
            "\n",
            "dupliacte rows:\n",
            "\n",
            "1\n"
          ]
        }
      ]
    },
    {
      "cell_type": "code",
      "metadata": {
        "colab": {
          "base_uri": "https://localhost:8080/"
        },
        "id": "CrEee5Dlqabt",
        "outputId": "efd696e8-dae8-40ab-ca24-36c5530a2f2a"
      },
      "source": [
        "training_set.dtypes"
      ],
      "execution_count": 1218,
      "outputs": [
        {
          "output_type": "execute_result",
          "data": {
            "text/plain": [
              "amount_tsh               float64\n",
              "date_recorded             object\n",
              "funder                    object\n",
              "gps_height                 int64\n",
              "installer                 object\n",
              "longitude                float64\n",
              "latitude                 float64\n",
              "wpt_name                  object\n",
              "num_private                int64\n",
              "basin                     object\n",
              "subvillage                object\n",
              "region                    object\n",
              "region_code                int64\n",
              "district_code              int64\n",
              "lga                       object\n",
              "ward                      object\n",
              "population                 int64\n",
              "public_meeting            object\n",
              "recorded_by               object\n",
              "scheme_management         object\n",
              "scheme_name               object\n",
              "permit                    object\n",
              "construction_year          int64\n",
              "extraction_type           object\n",
              "extraction_type_group     object\n",
              "extraction_type_class     object\n",
              "management                object\n",
              "management_group          object\n",
              "payment                   object\n",
              "payment_type              object\n",
              "water_quality             object\n",
              "quality_group             object\n",
              "quantity                  object\n",
              "quantity_group            object\n",
              "source                    object\n",
              "source_type               object\n",
              "source_class              object\n",
              "waterpoint_type           object\n",
              "waterpoint_type_group     object\n",
              "status_group              object\n",
              "dtype: object"
            ]
          },
          "metadata": {},
          "execution_count": 1218
        }
      ]
    },
    {
      "cell_type": "code",
      "metadata": {
        "id": "CXfTa-jIv35R"
      },
      "source": [
        "training_set.drop_duplicates(inplace = True)"
      ],
      "execution_count": 1219,
      "outputs": []
    },
    {
      "cell_type": "code",
      "metadata": {
        "colab": {
          "base_uri": "https://localhost:8080/",
          "height": 297
        },
        "id": "p1kbyYlwoNV2",
        "outputId": "c08a44a5-8f78-4dbc-bbac-5a781c540bd4"
      },
      "source": [
        " sns.countplot(x=\"status_group\", data=training_set)"
      ],
      "execution_count": 1220,
      "outputs": [
        {
          "output_type": "execute_result",
          "data": {
            "text/plain": [
              "<matplotlib.axes._subplots.AxesSubplot at 0x7f578a3a4e90>"
            ]
          },
          "metadata": {},
          "execution_count": 1220
        },
        {
          "output_type": "display_data",
          "data": {
            "image/png": "[encoded data removed]",
            "text/plain": [
              "<Figure size 432x288 with 1 Axes>"
            ]
          },
          "metadata": {
            "needs_background": "light"
          }
        }
      ]
    },
    {
      "cell_type": "markdown",
      "metadata": {
        "id": "rZEgfCv-OyAc"
      },
      "source": [
        "**Impute NAN values**"
      ]
    },
    {
      "cell_type": "code",
      "metadata": {
        "id": "s75gS73PJ4HU"
      },
      "source": [
        "#group by 2 cols and fill nan values from mode\n",
        "def fill(mode):\n",
        "    if(type(mode).__module__==\"numpy\"):\n",
        "        if(mode.size==0):\n",
        "          return \"Other\"\n",
        "        else:\n",
        "          return mode[0]\n",
        "    else:\n",
        "        return mode\n",
        "def fill_categorical_cols_2(df,col,grp_by):\n",
        "  mode=df.groupby(grp_by)[col].agg(pd.Series.mode)\n",
        "  grp=grp_by+[col]\n",
        "  df[col]=df[grp].apply(lambda row: fill(mode[row[0],row[1]]) if pd.isna(row[2]) else row[2],axis=1)"
      ],
      "execution_count": 1221,
      "outputs": []
    },
    {
      "cell_type": "code",
      "metadata": {
        "id": "N2wPuGhsrKBU"
      },
      "source": [
        "#group by 1 cols and fill nan values from mode\n",
        "def fill_categorical_cols_1(df,col,grp_by):\n",
        "  mode=df.groupby(grp_by)[col].agg(pd.Series.mode)\n",
        "  grp=grp_by+[col]\n",
        "  df[col]=df[grp].apply(lambda row: fill(mode[row[0]]) if pd.isna(row[1]) else row[1],axis=1)"
      ],
      "execution_count": 1222,
      "outputs": []
    },
    {
      "cell_type": "code",
      "metadata": {
        "id": "5nZ5gpLYsC0o"
      },
      "source": [
        "fill_categorical_cols_2(training_set,\"funder\",[\"region_code\",\"district_code\"])\n",
        "fill_categorical_cols_2(test_set_values,\"funder\",[\"region_code\",\"district_code\"])"
      ],
      "execution_count": 1223,
      "outputs": []
    },
    {
      "cell_type": "code",
      "metadata": {
        "id": "0mwaUMnJKqCi"
      },
      "source": [
        "fill_categorical_cols_1(training_set,\"installer\",[\"funder\"])\n",
        "fill_categorical_cols_1(test_set_values,\"installer\",[\"funder\"])"
      ],
      "execution_count": 1224,
      "outputs": []
    },
    {
      "cell_type": "code",
      "metadata": {
        "id": "GvRh3V-kt4_a"
      },
      "source": [
        "fill_categorical_cols_1(training_set,\"subvillage\",[\"ward\"])\n",
        "fill_categorical_cols_1(test_set_values,\"subvillage\",[\"ward\"])"
      ],
      "execution_count": 1225,
      "outputs": []
    },
    {
      "cell_type": "code",
      "metadata": {
        "id": "p3WIp0QhOBr3"
      },
      "source": [
        "fill_categorical_cols_1(training_set,\"public_meeting\",[\"ward\"])\n",
        "fill_categorical_cols_1(test_set_values,\"public_meeting\",[\"ward\"])"
      ],
      "execution_count": 1226,
      "outputs": []
    },
    {
      "cell_type": "code",
      "metadata": {
        "id": "1ZRjB9yQON-8"
      },
      "source": [
        "fill_categorical_cols_1(training_set,\"scheme_management\",[\"funder\"])\n",
        "fill_categorical_cols_1(test_set_values,\"scheme_management\",[\"funder\"])"
      ],
      "execution_count": 1227,
      "outputs": []
    },
    {
      "cell_type": "code",
      "metadata": {
        "id": "GVfOEQ9B344B"
      },
      "source": [
        "fill_categorical_cols_1(training_set,\"scheme_name\",[\"funder\"])\n",
        "fill_categorical_cols_1(test_set_values,\"scheme_name\",[\"funder\"])"
      ],
      "execution_count": 1228,
      "outputs": []
    },
    {
      "cell_type": "code",
      "metadata": {
        "id": "vPrwr6rz6zcL"
      },
      "source": [
        "fill_categorical_cols_1(training_set,\"permit\",[\"funder\"])\n",
        "fill_categorical_cols_1(test_set_values,\"permit\",[\"funder\"])"
      ],
      "execution_count": 1229,
      "outputs": []
    },
    {
      "cell_type": "markdown",
      "metadata": {
        "id": "HGbAvHzTPBWp"
      },
      "source": [
        "**Create new features**"
      ]
    },
    {
      "cell_type": "code",
      "metadata": {
        "id": "MXMScZcxvwxd"
      },
      "source": [
        "def year(row):\n",
        "  return row.split(\"-\")[0]\n",
        "# def month(row):\n",
        "#   return row.split(\"-\")[1]\n",
        "# def day(row):\n",
        "#   return row.split(\"-\")[2]\n",
        "def date_extract(df):\n",
        "  df[\"date_recorded_year\"]=df[[\"date_recorded\"]].apply(lambda row:year(row[0]),axis=1)\n",
        "  # df[\"date_recorded_month\"]=df[[\"date_recorded\"]].apply(lambda row:month(row[0]),axis=1)\n",
        "  # df[\"date_recorded_day\"]=df[[\"date_recorded\"]].apply(lambda row:day(row[0]),axis=1)"
      ],
      "execution_count": 1230,
      "outputs": []
    },
    {
      "cell_type": "code",
      "metadata": {
        "id": "kUuiqHPQxOHl"
      },
      "source": [
        "date_extract(training_set)\n",
        "date_extract(test_set_values)"
      ],
      "execution_count": 1231,
      "outputs": []
    },
    {
      "cell_type": "code",
      "metadata": {
        "id": "8O2qioasR6i4"
      },
      "source": [
        "def recorded_and_construction_year_differnce(df):\n",
        "      df[\"recorded_and_construction_year_differnce\"]=df[[\"construction_year\",\"date_recorded_year\"]].apply(lambda row:int(row[1])-int(row[0]) if int(row[1])-int(row[0])>=0 else 0,axis=1)"
      ],
      "execution_count": 1232,
      "outputs": []
    },
    {
      "cell_type": "code",
      "metadata": {
        "id": "T2dXhAiGTpVM"
      },
      "source": [
        "recorded_and_construction_year_differnce(training_set)\n",
        "recorded_and_construction_year_differnce(test_set_values)"
      ],
      "execution_count": 1233,
      "outputs": []
    },
    {
      "cell_type": "code",
      "metadata": {
        "id": "DGab4yUMyvpr"
      },
      "source": [
        "training_set.drop([\"date_recorded\",\"construction_year\",\"date_recorded_year\"], axis=1,inplace=True)\n",
        "test_set_values.drop([\"date_recorded\",\"construction_year\",\"date_recorded_year\"], axis=1,inplace=True)"
      ],
      "execution_count": 1234,
      "outputs": []
    },
    {
      "cell_type": "markdown",
      "metadata": {
        "id": "FIZ2r4CPP6Ld"
      },
      "source": [
        "**extract and alter features**"
      ]
    },
    {
      "cell_type": "code",
      "metadata": {
        "colab": {
          "base_uri": "https://localhost:8080/",
          "height": 297
        },
        "id": "62vcaGamVvmI",
        "outputId": "a7d53f83-e92a-4298-e691-c7826f0454e7"
      },
      "source": [
        "# source and source_type\n",
        "sns.countplot(x=\"source_type\", hue=\"source\",data=training_set)"
      ],
      "execution_count": 1235,
      "outputs": [
        {
          "output_type": "execute_result",
          "data": {
            "text/plain": [
              "<matplotlib.axes._subplots.AxesSubplot at 0x7f57899d6990>"
            ]
          },
          "metadata": {},
          "execution_count": 1235
        },
        {
          "output_type": "display_data",
          "data": {
            "image/png": "[encoded data removed]",
            "text/plain": [
              "<Figure size 432x288 with 1 Axes>"
            ]
          },
          "metadata": {
            "needs_background": "light"
          }
        }
      ]
    },
    {
      "cell_type": "code",
      "metadata": {
        "colab": {
          "base_uri": "https://localhost:8080/",
          "height": 297
        },
        "id": "CoVAwXybKVgh",
        "outputId": "922cd1b4-6d4a-4dd2-b722-b61083638407"
      },
      "source": [
        "sns.countplot(x=\"source_class\",data=training_set)"
      ],
      "execution_count": 1236,
      "outputs": [
        {
          "output_type": "execute_result",
          "data": {
            "text/plain": [
              "<matplotlib.axes._subplots.AxesSubplot at 0x7f5789de9a90>"
            ]
          },
          "metadata": {},
          "execution_count": 1236
        },
        {
          "output_type": "display_data",
          "data": {
            "image/png": "[encoded data removed]",
            "text/plain": [
              "<Figure size 432x288 with 1 Axes>"
            ]
          },
          "metadata": {
            "needs_background": "light"
          }
        }
      ]
    },
    {
      "cell_type": "code",
      "metadata": {
        "id": "CeRq8igsSfHX"
      },
      "source": [
        "def extraction_type(e_t):\n",
        "    if(\"-\" in e_t):\n",
        "        return e_t.split(\"-\")[1].strip()\n",
        "    elif(\"ii\" in e_t or \"iii\" in e_t):\n",
        "        return \" \".join(e_t.split(\" \")[0:2])\n",
        "    elif(\"80\" in e_t or \"81\" in e_t ):\n",
        "        return e_t.split(\" \")[0]\n",
        "    else:\n",
        "      return e_t\n",
        "def process_extraction_type(df):\n",
        "  df[\"extraction_type\"]=df[[\"extraction_type\"]].apply(lambda row:extraction_type(row[0]),axis=1)"
      ],
      "execution_count": 1237,
      "outputs": []
    },
    {
      "cell_type": "code",
      "metadata": {
        "id": "yqTBhienVlDn"
      },
      "source": [
        "process_extraction_type(training_set)\n",
        "process_extraction_type(training_set)\n",
        "process_extraction_type(test_set_values)\n",
        "process_extraction_type(test_set_values)"
      ],
      "execution_count": 1238,
      "outputs": []
    },
    {
      "cell_type": "code",
      "metadata": {
        "id": "R-vWhXOig9Fl"
      },
      "source": [
        "def unkown_to_other(df,feature):\n",
        "  df[feature]=df[[feature]].apply(lambda row:\"other\" if row[0]==\"unknown\" else row[0],axis=1)"
      ],
      "execution_count": 1239,
      "outputs": []
    },
    {
      "cell_type": "code",
      "metadata": {
        "id": "rZP7NYu-itnE"
      },
      "source": [
        "unkown_to_other(training_set,\"source_class\")\n",
        "unkown_to_other(training_set,\"source\")\n",
        "unkown_to_other(test_set_values,\"source_class\")\n",
        "unkown_to_other(test_set_values,\"source\")"
      ],
      "execution_count": 1240,
      "outputs": []
    },
    {
      "cell_type": "code",
      "metadata": {
        "id": "q82K3fSoW_zI"
      },
      "source": [
        "def extraction_type_group(e_t):\n",
        "    if(\"handpump\" in e_t):\n",
        "        return \"handpump\"\n",
        "    elif(\"motorpump\" in e_t):\n",
        "        return \"motorpump\"\n",
        "    elif(\"ii\" in e_t or \"iii\" in e_t):\n",
        "        return \" \".join(e_t.split(\" \")[0:2])\n",
        "    elif(\"80\" in e_t or \"81\" in e_t ):\n",
        "        return e_t.split(\" \")[0]\n",
        "    else:\n",
        "      return e_t\n",
        "def process_extraction_type_group(df):\n",
        "  df[\"extraction_type_group\"]= df[[\"extraction_type_group\"]].apply(lambda row:extraction_type_group(row[0]),axis=1)"
      ],
      "execution_count": 1241,
      "outputs": []
    },
    {
      "cell_type": "code",
      "metadata": {
        "id": "p5NOPUcnX33P"
      },
      "source": [
        "process_extraction_type_group(training_set)\n",
        "process_extraction_type_group(test_set_values)"
      ],
      "execution_count": 1242,
      "outputs": []
    },
    {
      "cell_type": "markdown",
      "metadata": {
        "id": "QGCUgoxsPKwy"
      },
      "source": [
        "**Normalization**"
      ]
    },
    {
      "cell_type": "code",
      "metadata": {
        "id": "KUZqNElesYaI"
      },
      "source": [
        "#normalization\n",
        "import numpy as np\n",
        "def normalize_log(df,feature):\n",
        "  df[feature]=df[[feature]].apply(lambda row:row[0]+1 ,axis=1)\n",
        "  df[feature]=np.log(df[feature])\n",
        "def normalize_to_zero(df,feature):\n",
        "  df[feature]=df[[feature]].apply(lambda row:row[0]+abs(df[feature].min()),axis=1)"
      ],
      "execution_count": 1243,
      "outputs": []
    },
    {
      "cell_type": "code",
      "metadata": {
        "id": "5knN1NZNyleK"
      },
      "source": [
        "normalize_log(training_set,\"amount_tsh\")\n",
        "normalize_log(training_set,\"population\")\n",
        "normalize_log(test_set_values,\"amount_tsh\")\n",
        "normalize_log(test_set_values,\"population\")\n",
        "normalize_to_zero(training_set,\"gps_height\")\n",
        "normalize_to_zero(test_set_values,\"gps_height\")\n",
        "normalize_log(training_set,\"gps_height\")\n",
        "normalize_log(test_set_values,\"gps_height\")\n",
        "normalize_log(training_set,\"recorded_and_construction_year_differnce\")\n",
        "normalize_log(test_set_values,\"recorded_and_construction_year_differnce\")"
      ],
      "execution_count": 1244,
      "outputs": []
    },
    {
      "cell_type": "code",
      "metadata": {
        "id": "thfS3o9YYRlV"
      },
      "source": [
        "def funder(fun):\n",
        "  fun=fun.upper()\n",
        "  if (\"0\" in fun):\n",
        "    fun=fun.replace(\"0\",\"O\")\n",
        "  if(\"/\" in fun):\n",
        "    fun_list=fun.split(\"/\")\n",
        "    for i in range(len(fun_list)):\n",
        "        fun_list[i]=fun_list[i].strip()\n",
        "    return \" \".join(fun_list)\n",
        "  elif(\"GVT\" in fun):\n",
        "      fun=fun.replace(\"GVT\",\"GOVERNMENT\")\n",
        "      return fun\n",
        "  elif(\"GOVT\" in fun):\n",
        "      fun=fun.replace(\"GOVT\",\"GOVERNMENT\")\n",
        "      return fun\n",
        "  elif(\"GOVER\" in fun):\n",
        "      fun=fun.replace(\"GOVER\",\"GOVERNMENT\")\n",
        "      return fun\n",
        "  elif(\"-\" in fun):\n",
        "      fun=fun.replace(\"-\",\" \")\n",
        "      return fun\n",
        "  elif(\" \" in fun):\n",
        "    new_fun_list=[]\n",
        "    fun_list=fun.split(\" \")\n",
        "    for i in range(len(fun_list)):\n",
        "        if(fun_list[i].strip()==\"CO\" or \"CO.\" in fun_list[i].strip()):\n",
        "            break\n",
        "        else:\n",
        "          new_fun_list.append(fun_list[i].strip())\n",
        "    return \" \".join(new_fun_list)\n",
        "  else:\n",
        "    return fun\n",
        "\n",
        "def process_funder(df):\n",
        "  df[\"funder\"]= df[[\"funder\"]].apply(lambda row:funder(row[0]),axis=1)"
      ],
      "execution_count": 1245,
      "outputs": []
    },
    {
      "cell_type": "code",
      "metadata": {
        "id": "mEhYOXJKHYsQ"
      },
      "source": [
        "process_funder(training_set)\n",
        "process_funder(test_set_values)"
      ],
      "execution_count": 1246,
      "outputs": []
    },
    {
      "cell_type": "code",
      "metadata": {
        "id": "68n7rv6FES6a"
      },
      "source": [
        "def installer(inst):\n",
        "  inst=inst.upper()\n",
        "  if(inst==\"-\"):\n",
        "    return \"NONE\"\n",
        "  elif(\"/\" in inst):\n",
        "    inst_list=inst.split(\"/\")\n",
        "    for i in range(len(inst_list)):\n",
        "      inst_list[i]=inst_list[i].strip()\n",
        "    return \" \".join(inst_list)\n",
        "  elif(\"GVT\" in inst ):\n",
        "      inst=inst.replace(\"GVT\",\"GOVERNMENT\")\n",
        "      return inst\n",
        "  elif(\"GOVT\" in inst):\n",
        "      inst=inst.replace(\"GOVT\",\"GOVERNMENT\")\n",
        "      return inst\n",
        "  elif(\" \" in inst):\n",
        "    new_inst_list=[]\n",
        "    inst_list=inst.split(\" \")\n",
        "    for i in range(len(inst_list)):\n",
        "        if(inst_list[i].strip()==\"CO\" or \"CO.\" in inst_list[i].strip()):\n",
        "            break\n",
        "        else:\n",
        "          new_inst_list.append(inst_list[i].strip())\n",
        "    return \" \".join(new_inst_list)\n",
        "  else:\n",
        "    return inst\n",
        "\n",
        "def process_intaller(df):\n",
        "  df[\"installer\"]= df[[\"installer\"]].apply(lambda row:installer(row[0]),axis=1)"
      ],
      "execution_count": 1247,
      "outputs": []
    },
    {
      "cell_type": "code",
      "metadata": {
        "id": "vw9_TmomTPMp"
      },
      "source": [
        "process_intaller(training_set)\n",
        "process_intaller(test_set_values)"
      ],
      "execution_count": 1248,
      "outputs": []
    },
    {
      "cell_type": "code",
      "metadata": {
        "id": "kghIhe_pkMXM"
      },
      "source": [
        "#replace and remove space,\"-\",\"_\"and \".\" etc..\n",
        "def _replace(val):\n",
        "    if(\"\\\\\" in val):\n",
        "      val=val.replace(\"\\\\\",\" \")\n",
        "    if(\".\" in val):\n",
        "      val=val.replace(\".\",\" \")\n",
        "    if(\"_\" in val):\n",
        "      val=val.replace(\"_\",\" \") \n",
        "    if(\"-\" in val):\n",
        "      val=val.replace(\"-\",\" \") \n",
        "    return val\n",
        "    \n",
        "def _remove(val,start,end):\n",
        "    if(\" \" in val):\n",
        "      new_val_list=[]\n",
        "      val_list=val.split(\" \")\n",
        "      start=max(start,0)\n",
        "      end=min(end,len(val_list))\n",
        "      for i in range(start,end):\n",
        "        new_val_list.append(val_list[i].strip())\n",
        "      return \"\".join(new_val_list)\n",
        "    else:\n",
        "      return val\n",
        "def replace_and_remove(df,feature,start,end):\n",
        "  df[feature]= df[[feature]].apply(lambda row:_replace(row[0]),axis=1)\n",
        "  df[feature]= df[[feature]].apply(lambda row:_remove(row[0],start,end),axis=1)"
      ],
      "execution_count": 1249,
      "outputs": []
    },
    {
      "cell_type": "code",
      "metadata": {
        "id": "PlbrkYlftKA5"
      },
      "source": [
        "replace_and_remove(training_set,\"installer\",0,3)\n",
        "replace_and_remove(test_set_values,\"installer\",0,3)\n",
        "replace_and_remove(training_set,\"funder\",0,3)\n",
        "replace_and_remove(test_set_values,\"funder\",0,3)"
      ],
      "execution_count": 1250,
      "outputs": []
    },
    {
      "cell_type": "code",
      "metadata": {
        "id": "5SYumzFs9z-Y"
      },
      "source": [
        "#drop new duplicates originated beacuse of featue impute\n",
        "training_set.drop_duplicates(inplace = True)"
      ],
      "execution_count": 1251,
      "outputs": []
    },
    {
      "cell_type": "code",
      "metadata": {
        "colab": {
          "base_uri": "https://localhost:8080/",
          "height": 438
        },
        "id": "XxXXEWLd120q",
        "outputId": "e8eb2a82-011e-4d3d-f15d-6b4762feeae5"
      },
      "source": [
        "training_set.head()"
      ],
      "execution_count": 1252,
      "outputs": [
        {
          "output_type": "execute_result",
          "data": {
            "text/html": [
              "<div>\n",
              "<style scoped>\n",
              "    .dataframe tbody tr th:only-of-type {\n",
              "        vertical-align: middle;\n",
              "    }\n",
              "\n",
              "    .dataframe tbody tr th {\n",
              "        vertical-align: top;\n",
              "    }\n",
              "\n",
              "    .dataframe thead th {\n",
              "        text-align: right;\n",
              "    }\n",
              "</style>\n",
              "<table border=\"1\" class=\"dataframe\">\n",
              "  <thead>\n",
              "    <tr style=\"text-align: right;\">\n",
              "      <th></th>\n",
              "      <th>amount_tsh</th>\n",
              "      <th>funder</th>\n",
              "      <th>gps_height</th>\n",
              "      <th>installer</th>\n",
              "      <th>longitude</th>\n",
              "      <th>latitude</th>\n",
              "      <th>wpt_name</th>\n",
              "      <th>num_private</th>\n",
              "      <th>basin</th>\n",
              "      <th>subvillage</th>\n",
              "      <th>region</th>\n",
              "      <th>region_code</th>\n",
              "      <th>district_code</th>\n",
              "      <th>lga</th>\n",
              "      <th>ward</th>\n",
              "      <th>population</th>\n",
              "      <th>public_meeting</th>\n",
              "      <th>recorded_by</th>\n",
              "      <th>scheme_management</th>\n",
              "      <th>scheme_name</th>\n",
              "      <th>permit</th>\n",
              "      <th>extraction_type</th>\n",
              "      <th>extraction_type_group</th>\n",
              "      <th>extraction_type_class</th>\n",
              "      <th>management</th>\n",
              "      <th>management_group</th>\n",
              "      <th>payment</th>\n",
              "      <th>payment_type</th>\n",
              "      <th>water_quality</th>\n",
              "      <th>quality_group</th>\n",
              "      <th>quantity</th>\n",
              "      <th>quantity_group</th>\n",
              "      <th>source</th>\n",
              "      <th>source_type</th>\n",
              "      <th>source_class</th>\n",
              "      <th>waterpoint_type</th>\n",
              "      <th>waterpoint_type_group</th>\n",
              "      <th>status_group</th>\n",
              "      <th>recorded_and_construction_year_differnce</th>\n",
              "    </tr>\n",
              "    <tr>\n",
              "      <th>id</th>\n",
              "      <th></th>\n",
              "      <th></th>\n",
              "      <th></th>\n",
              "      <th></th>\n",
              "      <th></th>\n",
              "      <th></th>\n",
              "      <th></th>\n",
              "      <th></th>\n",
              "      <th></th>\n",
              "      <th></th>\n",
              "      <th></th>\n",
              "      <th></th>\n",
              "      <th></th>\n",
              "      <th></th>\n",
              "      <th></th>\n",
              "      <th></th>\n",
              "      <th></th>\n",
              "      <th></th>\n",
              "      <th></th>\n",
              "      <th></th>\n",
              "      <th></th>\n",
              "      <th></th>\n",
              "      <th></th>\n",
              "      <th></th>\n",
              "      <th></th>\n",
              "      <th></th>\n",
              "      <th></th>\n",
              "      <th></th>\n",
              "      <th></th>\n",
              "      <th></th>\n",
              "      <th></th>\n",
              "      <th></th>\n",
              "      <th></th>\n",
              "      <th></th>\n",
              "      <th></th>\n",
              "      <th></th>\n",
              "      <th></th>\n",
              "      <th></th>\n",
              "      <th></th>\n",
              "    </tr>\n",
              "  </thead>\n",
              "  <tbody>\n",
              "    <tr>\n",
              "      <th>69572</th>\n",
              "      <td>8.699681</td>\n",
              "      <td>ROMAN</td>\n",
              "      <td>7.300473</td>\n",
              "      <td>ROMAN</td>\n",
              "      <td>34.938093</td>\n",
              "      <td>-9.856322</td>\n",
              "      <td>none</td>\n",
              "      <td>0</td>\n",
              "      <td>Lake Nyasa</td>\n",
              "      <td>Mnyusi B</td>\n",
              "      <td>Iringa</td>\n",
              "      <td>11</td>\n",
              "      <td>5</td>\n",
              "      <td>Ludewa</td>\n",
              "      <td>Mundindi</td>\n",
              "      <td>4.700480</td>\n",
              "      <td>True</td>\n",
              "      <td>GeoData Consultants Ltd</td>\n",
              "      <td>VWC</td>\n",
              "      <td>Roman</td>\n",
              "      <td>False</td>\n",
              "      <td>gravity</td>\n",
              "      <td>gravity</td>\n",
              "      <td>gravity</td>\n",
              "      <td>vwc</td>\n",
              "      <td>user-group</td>\n",
              "      <td>pay annually</td>\n",
              "      <td>annually</td>\n",
              "      <td>soft</td>\n",
              "      <td>good</td>\n",
              "      <td>enough</td>\n",
              "      <td>enough</td>\n",
              "      <td>spring</td>\n",
              "      <td>spring</td>\n",
              "      <td>groundwater</td>\n",
              "      <td>communal standpipe</td>\n",
              "      <td>communal standpipe</td>\n",
              "      <td>functional</td>\n",
              "      <td>2.564949</td>\n",
              "    </tr>\n",
              "    <tr>\n",
              "      <th>8776</th>\n",
              "      <td>0.000000</td>\n",
              "      <td>GRUMETI</td>\n",
              "      <td>7.306531</td>\n",
              "      <td>GRUMETI</td>\n",
              "      <td>34.698766</td>\n",
              "      <td>-2.147466</td>\n",
              "      <td>Zahanati</td>\n",
              "      <td>0</td>\n",
              "      <td>Lake Victoria</td>\n",
              "      <td>Nyamara</td>\n",
              "      <td>Mara</td>\n",
              "      <td>20</td>\n",
              "      <td>2</td>\n",
              "      <td>Serengeti</td>\n",
              "      <td>Natta</td>\n",
              "      <td>5.638355</td>\n",
              "      <td>False</td>\n",
              "      <td>GeoData Consultants Ltd</td>\n",
              "      <td>Other</td>\n",
              "      <td>GRUMETI</td>\n",
              "      <td>True</td>\n",
              "      <td>gravity</td>\n",
              "      <td>gravity</td>\n",
              "      <td>gravity</td>\n",
              "      <td>wug</td>\n",
              "      <td>user-group</td>\n",
              "      <td>never pay</td>\n",
              "      <td>never pay</td>\n",
              "      <td>soft</td>\n",
              "      <td>good</td>\n",
              "      <td>insufficient</td>\n",
              "      <td>insufficient</td>\n",
              "      <td>rainwater harvesting</td>\n",
              "      <td>rainwater harvesting</td>\n",
              "      <td>surface</td>\n",
              "      <td>communal standpipe</td>\n",
              "      <td>communal standpipe</td>\n",
              "      <td>functional</td>\n",
              "      <td>1.386294</td>\n",
              "    </tr>\n",
              "    <tr>\n",
              "      <th>34310</th>\n",
              "      <td>3.258097</td>\n",
              "      <td>LOTTERYCLUB</td>\n",
              "      <td>6.655440</td>\n",
              "      <td>WORLDVISION</td>\n",
              "      <td>37.460664</td>\n",
              "      <td>-3.821329</td>\n",
              "      <td>Kwa Mahundi</td>\n",
              "      <td>0</td>\n",
              "      <td>Pangani</td>\n",
              "      <td>Majengo</td>\n",
              "      <td>Manyara</td>\n",
              "      <td>21</td>\n",
              "      <td>4</td>\n",
              "      <td>Simanjiro</td>\n",
              "      <td>Ngorika</td>\n",
              "      <td>5.525453</td>\n",
              "      <td>True</td>\n",
              "      <td>GeoData Consultants Ltd</td>\n",
              "      <td>VWC</td>\n",
              "      <td>Nyumba ya mungu pipe scheme</td>\n",
              "      <td>True</td>\n",
              "      <td>gravity</td>\n",
              "      <td>gravity</td>\n",
              "      <td>gravity</td>\n",
              "      <td>vwc</td>\n",
              "      <td>user-group</td>\n",
              "      <td>pay per bucket</td>\n",
              "      <td>per bucket</td>\n",
              "      <td>soft</td>\n",
              "      <td>good</td>\n",
              "      <td>enough</td>\n",
              "      <td>enough</td>\n",
              "      <td>dam</td>\n",
              "      <td>dam</td>\n",
              "      <td>surface</td>\n",
              "      <td>communal standpipe multiple</td>\n",
              "      <td>communal standpipe</td>\n",
              "      <td>functional</td>\n",
              "      <td>1.609438</td>\n",
              "    </tr>\n",
              "    <tr>\n",
              "      <th>67743</th>\n",
              "      <td>0.000000</td>\n",
              "      <td>UNICEF</td>\n",
              "      <td>5.869297</td>\n",
              "      <td>UNICEF</td>\n",
              "      <td>38.486161</td>\n",
              "      <td>-11.155298</td>\n",
              "      <td>Zahanati Ya Nanyumbu</td>\n",
              "      <td>0</td>\n",
              "      <td>Ruvuma / Southern Coast</td>\n",
              "      <td>Mahakamani</td>\n",
              "      <td>Mtwara</td>\n",
              "      <td>90</td>\n",
              "      <td>63</td>\n",
              "      <td>Nanyumbu</td>\n",
              "      <td>Nanyumbu</td>\n",
              "      <td>4.077537</td>\n",
              "      <td>True</td>\n",
              "      <td>GeoData Consultants Ltd</td>\n",
              "      <td>VWC</td>\n",
              "      <td>wanging'ombe water supply s</td>\n",
              "      <td>True</td>\n",
              "      <td>submersible</td>\n",
              "      <td>submersible</td>\n",
              "      <td>submersible</td>\n",
              "      <td>vwc</td>\n",
              "      <td>user-group</td>\n",
              "      <td>never pay</td>\n",
              "      <td>never pay</td>\n",
              "      <td>soft</td>\n",
              "      <td>good</td>\n",
              "      <td>dry</td>\n",
              "      <td>dry</td>\n",
              "      <td>machine dbh</td>\n",
              "      <td>borehole</td>\n",
              "      <td>groundwater</td>\n",
              "      <td>communal standpipe multiple</td>\n",
              "      <td>communal standpipe</td>\n",
              "      <td>non functional</td>\n",
              "      <td>3.332205</td>\n",
              "    </tr>\n",
              "    <tr>\n",
              "      <th>19728</th>\n",
              "      <td>0.000000</td>\n",
              "      <td>ACTIONINA</td>\n",
              "      <td>4.510860</td>\n",
              "      <td>ARTISAN</td>\n",
              "      <td>31.130847</td>\n",
              "      <td>-1.825359</td>\n",
              "      <td>Shuleni</td>\n",
              "      <td>0</td>\n",
              "      <td>Lake Victoria</td>\n",
              "      <td>Kyanyamisa</td>\n",
              "      <td>Kagera</td>\n",
              "      <td>18</td>\n",
              "      <td>1</td>\n",
              "      <td>Karagwe</td>\n",
              "      <td>Nyakasimbi</td>\n",
              "      <td>0.000000</td>\n",
              "      <td>True</td>\n",
              "      <td>GeoData Consultants Ltd</td>\n",
              "      <td>Other</td>\n",
              "      <td>Other</td>\n",
              "      <td>True</td>\n",
              "      <td>gravity</td>\n",
              "      <td>gravity</td>\n",
              "      <td>gravity</td>\n",
              "      <td>other</td>\n",
              "      <td>other</td>\n",
              "      <td>never pay</td>\n",
              "      <td>never pay</td>\n",
              "      <td>soft</td>\n",
              "      <td>good</td>\n",
              "      <td>seasonal</td>\n",
              "      <td>seasonal</td>\n",
              "      <td>rainwater harvesting</td>\n",
              "      <td>rainwater harvesting</td>\n",
              "      <td>surface</td>\n",
              "      <td>communal standpipe</td>\n",
              "      <td>communal standpipe</td>\n",
              "      <td>functional</td>\n",
              "      <td>7.606885</td>\n",
              "    </tr>\n",
              "  </tbody>\n",
              "</table>\n",
              "</div>"
            ],
            "text/plain": [
              "       amount_tsh  ... recorded_and_construction_year_differnce\n",
              "id                 ...                                         \n",
              "69572    8.699681  ...                                 2.564949\n",
              "8776     0.000000  ...                                 1.386294\n",
              "34310    3.258097  ...                                 1.609438\n",
              "67743    0.000000  ...                                 3.332205\n",
              "19728    0.000000  ...                                 7.606885\n",
              "\n",
              "[5 rows x 39 columns]"
            ]
          },
          "metadata": {},
          "execution_count": 1252
        }
      ]
    },
    {
      "cell_type": "code",
      "metadata": {
        "colab": {
          "base_uri": "https://localhost:8080/",
          "height": 455
        },
        "id": "GU8k4gtf3qsD",
        "outputId": "234e8afe-c590-42e2-82ca-5372798d8c1e"
      },
      "source": [
        "test_set_values.head()"
      ],
      "execution_count": 1253,
      "outputs": [
        {
          "output_type": "execute_result",
          "data": {
            "text/html": [
              "<div>\n",
              "<style scoped>\n",
              "    .dataframe tbody tr th:only-of-type {\n",
              "        vertical-align: middle;\n",
              "    }\n",
              "\n",
              "    .dataframe tbody tr th {\n",
              "        vertical-align: top;\n",
              "    }\n",
              "\n",
              "    .dataframe thead th {\n",
              "        text-align: right;\n",
              "    }\n",
              "</style>\n",
              "<table border=\"1\" class=\"dataframe\">\n",
              "  <thead>\n",
              "    <tr style=\"text-align: right;\">\n",
              "      <th></th>\n",
              "      <th>amount_tsh</th>\n",
              "      <th>funder</th>\n",
              "      <th>gps_height</th>\n",
              "      <th>installer</th>\n",
              "      <th>longitude</th>\n",
              "      <th>latitude</th>\n",
              "      <th>wpt_name</th>\n",
              "      <th>num_private</th>\n",
              "      <th>basin</th>\n",
              "      <th>subvillage</th>\n",
              "      <th>region</th>\n",
              "      <th>region_code</th>\n",
              "      <th>district_code</th>\n",
              "      <th>lga</th>\n",
              "      <th>ward</th>\n",
              "      <th>population</th>\n",
              "      <th>public_meeting</th>\n",
              "      <th>recorded_by</th>\n",
              "      <th>scheme_management</th>\n",
              "      <th>scheme_name</th>\n",
              "      <th>permit</th>\n",
              "      <th>extraction_type</th>\n",
              "      <th>extraction_type_group</th>\n",
              "      <th>extraction_type_class</th>\n",
              "      <th>management</th>\n",
              "      <th>management_group</th>\n",
              "      <th>payment</th>\n",
              "      <th>payment_type</th>\n",
              "      <th>water_quality</th>\n",
              "      <th>quality_group</th>\n",
              "      <th>quantity</th>\n",
              "      <th>quantity_group</th>\n",
              "      <th>source</th>\n",
              "      <th>source_type</th>\n",
              "      <th>source_class</th>\n",
              "      <th>waterpoint_type</th>\n",
              "      <th>waterpoint_type_group</th>\n",
              "      <th>recorded_and_construction_year_differnce</th>\n",
              "    </tr>\n",
              "    <tr>\n",
              "      <th>id</th>\n",
              "      <th></th>\n",
              "      <th></th>\n",
              "      <th></th>\n",
              "      <th></th>\n",
              "      <th></th>\n",
              "      <th></th>\n",
              "      <th></th>\n",
              "      <th></th>\n",
              "      <th></th>\n",
              "      <th></th>\n",
              "      <th></th>\n",
              "      <th></th>\n",
              "      <th></th>\n",
              "      <th></th>\n",
              "      <th></th>\n",
              "      <th></th>\n",
              "      <th></th>\n",
              "      <th></th>\n",
              "      <th></th>\n",
              "      <th></th>\n",
              "      <th></th>\n",
              "      <th></th>\n",
              "      <th></th>\n",
              "      <th></th>\n",
              "      <th></th>\n",
              "      <th></th>\n",
              "      <th></th>\n",
              "      <th></th>\n",
              "      <th></th>\n",
              "      <th></th>\n",
              "      <th></th>\n",
              "      <th></th>\n",
              "      <th></th>\n",
              "      <th></th>\n",
              "      <th></th>\n",
              "      <th></th>\n",
              "      <th></th>\n",
              "      <th></th>\n",
              "    </tr>\n",
              "  </thead>\n",
              "  <tbody>\n",
              "    <tr>\n",
              "      <th>50785</th>\n",
              "      <td>0.000000</td>\n",
              "      <td>DMDD</td>\n",
              "      <td>7.627544</td>\n",
              "      <td>DMDD</td>\n",
              "      <td>35.290799</td>\n",
              "      <td>-4.059696</td>\n",
              "      <td>Dinamu Secondary School</td>\n",
              "      <td>0</td>\n",
              "      <td>Internal</td>\n",
              "      <td>Magoma</td>\n",
              "      <td>Manyara</td>\n",
              "      <td>21</td>\n",
              "      <td>3</td>\n",
              "      <td>Mbulu</td>\n",
              "      <td>Bashay</td>\n",
              "      <td>5.774552</td>\n",
              "      <td>True</td>\n",
              "      <td>GeoData Consultants Ltd</td>\n",
              "      <td>Parastatal</td>\n",
              "      <td>Kijiji</td>\n",
              "      <td>True</td>\n",
              "      <td>other</td>\n",
              "      <td>other</td>\n",
              "      <td>other</td>\n",
              "      <td>parastatal</td>\n",
              "      <td>parastatal</td>\n",
              "      <td>never pay</td>\n",
              "      <td>never pay</td>\n",
              "      <td>soft</td>\n",
              "      <td>good</td>\n",
              "      <td>seasonal</td>\n",
              "      <td>seasonal</td>\n",
              "      <td>rainwater harvesting</td>\n",
              "      <td>rainwater harvesting</td>\n",
              "      <td>surface</td>\n",
              "      <td>other</td>\n",
              "      <td>other</td>\n",
              "      <td>0.693147</td>\n",
              "    </tr>\n",
              "    <tr>\n",
              "      <th>51630</th>\n",
              "      <td>0.000000</td>\n",
              "      <td>GOVERNMENTNMENTOFTANZANIA</td>\n",
              "      <td>7.394493</td>\n",
              "      <td>DWE</td>\n",
              "      <td>36.656709</td>\n",
              "      <td>-3.309214</td>\n",
              "      <td>Kimnyak</td>\n",
              "      <td>0</td>\n",
              "      <td>Pangani</td>\n",
              "      <td>Kimnyak</td>\n",
              "      <td>Arusha</td>\n",
              "      <td>2</td>\n",
              "      <td>2</td>\n",
              "      <td>Arusha Rural</td>\n",
              "      <td>Kimnyaki</td>\n",
              "      <td>5.707110</td>\n",
              "      <td>True</td>\n",
              "      <td>GeoData Consultants Ltd</td>\n",
              "      <td>VWC</td>\n",
              "      <td>TPRI pipe line</td>\n",
              "      <td>True</td>\n",
              "      <td>gravity</td>\n",
              "      <td>gravity</td>\n",
              "      <td>gravity</td>\n",
              "      <td>vwc</td>\n",
              "      <td>user-group</td>\n",
              "      <td>never pay</td>\n",
              "      <td>never pay</td>\n",
              "      <td>soft</td>\n",
              "      <td>good</td>\n",
              "      <td>insufficient</td>\n",
              "      <td>insufficient</td>\n",
              "      <td>spring</td>\n",
              "      <td>spring</td>\n",
              "      <td>groundwater</td>\n",
              "      <td>communal standpipe</td>\n",
              "      <td>communal standpipe</td>\n",
              "      <td>2.639057</td>\n",
              "    </tr>\n",
              "    <tr>\n",
              "      <th>17168</th>\n",
              "      <td>0.000000</td>\n",
              "      <td>RUNDUMAN</td>\n",
              "      <td>7.393263</td>\n",
              "      <td>RUNDUMAN</td>\n",
              "      <td>34.767863</td>\n",
              "      <td>-5.004344</td>\n",
              "      <td>Puma Secondary</td>\n",
              "      <td>0</td>\n",
              "      <td>Internal</td>\n",
              "      <td>Msatu</td>\n",
              "      <td>Singida</td>\n",
              "      <td>13</td>\n",
              "      <td>2</td>\n",
              "      <td>Singida Rural</td>\n",
              "      <td>Puma</td>\n",
              "      <td>6.216606</td>\n",
              "      <td>True</td>\n",
              "      <td>GeoData Consultants Ltd</td>\n",
              "      <td>VWC</td>\n",
              "      <td>P</td>\n",
              "      <td>True</td>\n",
              "      <td>other</td>\n",
              "      <td>other</td>\n",
              "      <td>other</td>\n",
              "      <td>vwc</td>\n",
              "      <td>user-group</td>\n",
              "      <td>never pay</td>\n",
              "      <td>never pay</td>\n",
              "      <td>soft</td>\n",
              "      <td>good</td>\n",
              "      <td>insufficient</td>\n",
              "      <td>insufficient</td>\n",
              "      <td>rainwater harvesting</td>\n",
              "      <td>rainwater harvesting</td>\n",
              "      <td>surface</td>\n",
              "      <td>other</td>\n",
              "      <td>other</td>\n",
              "      <td>1.386294</td>\n",
              "    </tr>\n",
              "    <tr>\n",
              "      <th>45559</th>\n",
              "      <td>0.000000</td>\n",
              "      <td>FINNWATER</td>\n",
              "      <td>5.783825</td>\n",
              "      <td>FINNWATER</td>\n",
              "      <td>38.058046</td>\n",
              "      <td>-9.418672</td>\n",
              "      <td>Kwa Mzee Pange</td>\n",
              "      <td>0</td>\n",
              "      <td>Ruvuma / Southern Coast</td>\n",
              "      <td>Kipindimbi</td>\n",
              "      <td>Lindi</td>\n",
              "      <td>80</td>\n",
              "      <td>43</td>\n",
              "      <td>Liwale</td>\n",
              "      <td>Mkutano</td>\n",
              "      <td>5.525453</td>\n",
              "      <td>True</td>\n",
              "      <td>GeoData Consultants Ltd</td>\n",
              "      <td>VWC</td>\n",
              "      <td>Other</td>\n",
              "      <td>True</td>\n",
              "      <td>other</td>\n",
              "      <td>other</td>\n",
              "      <td>other</td>\n",
              "      <td>vwc</td>\n",
              "      <td>user-group</td>\n",
              "      <td>unknown</td>\n",
              "      <td>unknown</td>\n",
              "      <td>soft</td>\n",
              "      <td>good</td>\n",
              "      <td>dry</td>\n",
              "      <td>dry</td>\n",
              "      <td>shallow well</td>\n",
              "      <td>shallow well</td>\n",
              "      <td>groundwater</td>\n",
              "      <td>other</td>\n",
              "      <td>other</td>\n",
              "      <td>3.295837</td>\n",
              "    </tr>\n",
              "    <tr>\n",
              "      <th>49871</th>\n",
              "      <td>6.216606</td>\n",
              "      <td>BRUDER</td>\n",
              "      <td>7.183871</td>\n",
              "      <td>BRUDER</td>\n",
              "      <td>35.006123</td>\n",
              "      <td>-10.950412</td>\n",
              "      <td>Kwa Mzee Turuka</td>\n",
              "      <td>0</td>\n",
              "      <td>Ruvuma / Southern Coast</td>\n",
              "      <td>Losonga</td>\n",
              "      <td>Ruvuma</td>\n",
              "      <td>10</td>\n",
              "      <td>3</td>\n",
              "      <td>Mbinga</td>\n",
              "      <td>Mbinga Urban</td>\n",
              "      <td>4.110874</td>\n",
              "      <td>True</td>\n",
              "      <td>GeoData Consultants Ltd</td>\n",
              "      <td>Water Board</td>\n",
              "      <td>BRUDER</td>\n",
              "      <td>True</td>\n",
              "      <td>gravity</td>\n",
              "      <td>gravity</td>\n",
              "      <td>gravity</td>\n",
              "      <td>water board</td>\n",
              "      <td>user-group</td>\n",
              "      <td>pay monthly</td>\n",
              "      <td>monthly</td>\n",
              "      <td>soft</td>\n",
              "      <td>good</td>\n",
              "      <td>enough</td>\n",
              "      <td>enough</td>\n",
              "      <td>spring</td>\n",
              "      <td>spring</td>\n",
              "      <td>groundwater</td>\n",
              "      <td>communal standpipe</td>\n",
              "      <td>communal standpipe</td>\n",
              "      <td>2.639057</td>\n",
              "    </tr>\n",
              "  </tbody>\n",
              "</table>\n",
              "</div>"
            ],
            "text/plain": [
              "       amount_tsh  ... recorded_and_construction_year_differnce\n",
              "id                 ...                                         \n",
              "50785    0.000000  ...                                 0.693147\n",
              "51630    0.000000  ...                                 2.639057\n",
              "17168    0.000000  ...                                 1.386294\n",
              "45559    0.000000  ...                                 3.295837\n",
              "49871    6.216606  ...                                 2.639057\n",
              "\n",
              "[5 rows x 38 columns]"
            ]
          },
          "metadata": {},
          "execution_count": 1253
        }
      ]
    },
    {
      "cell_type": "markdown",
      "metadata": {
        "id": "2sSqARYSPk2l"
      },
      "source": [
        "**Train using CatBoost**"
      ]
    },
    {
      "cell_type": "code",
      "metadata": {
        "id": "EJ5UOeD2KRM6",
        "colab": {
          "base_uri": "https://localhost:8080/"
        },
        "outputId": "ba685f00-b4d5-4c21-aceb-a23d58734c59"
      },
      "source": [
        "!pip install catboost"
      ],
      "execution_count": 1254,
      "outputs": [
        {
          "output_type": "stream",
          "name": "stdout",
          "text": [
            "Requirement already satisfied: catboost in /usr/local/lib/python3.7/dist-packages (0.26.1)\n",
            "Requirement already satisfied: scipy in /usr/local/lib/python3.7/dist-packages (from catboost) (1.4.1)\n",
            "Requirement already satisfied: plotly in /usr/local/lib/python3.7/dist-packages (from catboost) (4.4.1)\n",
            "Requirement already satisfied: six in /usr/local/lib/python3.7/dist-packages (from catboost) (1.15.0)\n",
            "Requirement already satisfied: graphviz in /usr/local/lib/python3.7/dist-packages (from catboost) (0.10.1)\n",
            "Requirement already satisfied: pandas>=0.24.0 in /usr/local/lib/python3.7/dist-packages (from catboost) (1.1.5)\n",
            "Requirement already satisfied: matplotlib in /usr/local/lib/python3.7/dist-packages (from catboost) (3.2.2)\n",
            "Requirement already satisfied: numpy>=1.16.0 in /usr/local/lib/python3.7/dist-packages (from catboost) (1.19.5)\n",
            "Requirement already satisfied: pytz>=2017.2 in /usr/local/lib/python3.7/dist-packages (from pandas>=0.24.0->catboost) (2018.9)\n",
            "Requirement already satisfied: python-dateutil>=2.7.3 in /usr/local/lib/python3.7/dist-packages (from pandas>=0.24.0->catboost) (2.8.2)\n",
            "Requirement already satisfied: cycler>=0.10 in /usr/local/lib/python3.7/dist-packages (from matplotlib->catboost) (0.10.0)\n",
            "Requirement already satisfied: pyparsing!=2.0.4,!=2.1.2,!=2.1.6,>=2.0.1 in /usr/local/lib/python3.7/dist-packages (from matplotlib->catboost) (2.4.7)\n",
            "Requirement already satisfied: kiwisolver>=1.0.1 in /usr/local/lib/python3.7/dist-packages (from matplotlib->catboost) (1.3.1)\n",
            "Requirement already satisfied: retrying>=1.3.3 in /usr/local/lib/python3.7/dist-packages (from plotly->catboost) (1.3.3)\n"
          ]
        }
      ]
    },
    {
      "cell_type": "code",
      "metadata": {
        "id": "PTf16pWqJsX2"
      },
      "source": [
        "from sklearn.model_selection import train_test_split\n",
        "from catboost import CatBoostClassifier"
      ],
      "execution_count": 1255,
      "outputs": []
    },
    {
      "cell_type": "code",
      "metadata": {
        "id": "L3dDIUIMHiPm"
      },
      "source": [
        "X,Y=training_set.loc[:, training_set.columns !=\"status_group\"],training_set[\"status_group\"]"
      ],
      "execution_count": 1256,
      "outputs": []
    },
    {
      "cell_type": "code",
      "metadata": {
        "id": "9CEM88vqHMEL"
      },
      "source": [
        "seed = 42\n",
        "test_size=0.1\n",
        "X_train, X_test, Y_train, Y_test = train_test_split(X, Y, test_size=test_size, random_state=seed,stratify=Y)"
      ],
      "execution_count": 1257,
      "outputs": []
    },
    {
      "cell_type": "code",
      "metadata": {
        "id": "iDzhLwbnJtzJ",
        "colab": {
          "base_uri": "https://localhost:8080/"
        },
        "outputId": "b08648fe-bccb-4669-aebb-27395a37b861"
      },
      "source": [
        "model = CatBoostClassifier(verbose=False)\n",
        "cat_features=[\"funder\",\"installer\",\"wpt_name\",\"basin\",\"subvillage\",\"region\",\"region_code\",\"district_code\",\"lga\",\"ward\",\"public_meeting\",\"recorded_by\",\"scheme_management\",\"scheme_name\",\"permit\",\n",
        "              \"extraction_type\",\"extraction_type_group\",\"extraction_type_class\",\"management\",\"management_group\",\"payment\",\"payment_type\",\"water_quality\",\"quality_group\",\"quantity\",\"quantity_group\",\"source\",\"source_type\",\"source_class\",\"waterpoint_type\",\"waterpoint_type_group\"]\n",
        "model.fit(X_train,Y_train,cat_features=cat_features)"
      ],
      "execution_count": 1258,
      "outputs": [
        {
          "output_type": "execute_result",
          "data": {
            "text/plain": [
              "<catboost.core.CatBoostClassifier at 0x7f5789b8ad10>"
            ]
          },
          "metadata": {},
          "execution_count": 1258
        }
      ]
    },
    {
      "cell_type": "code",
      "metadata": {
        "id": "BfMYlFmhKF1N",
        "colab": {
          "base_uri": "https://localhost:8080/"
        },
        "outputId": "d6a0ce95-12ac-4fb7-c9ba-a60bd478ffd8"
      },
      "source": [
        "from sklearn.metrics import accuracy_score\n",
        "pred=model.predict(X_test)\n",
        "accuracy_score(Y_test,pred)"
      ],
      "execution_count": 1259,
      "outputs": [
        {
          "output_type": "execute_result",
          "data": {
            "text/plain": [
              "0.811193526635199"
            ]
          },
          "metadata": {},
          "execution_count": 1259
        }
      ]
    },
    {
      "cell_type": "markdown",
      "metadata": {
        "id": "ibv1N4v59YPr"
      },
      "source": [
        "**Full dataset training**"
      ]
    },
    {
      "cell_type": "code",
      "metadata": {
        "colab": {
          "base_uri": "https://localhost:8080/"
        },
        "id": "Esr5fXmk9dRV",
        "outputId": "528fc7ce-4e6f-4cf5-f991-027d78c36709"
      },
      "source": [
        "full_train_model = CatBoostClassifier(verbose=False)\n",
        "full_train_model.fit(X,Y,cat_features=cat_features)"
      ],
      "execution_count": 1260,
      "outputs": [
        {
          "output_type": "execute_result",
          "data": {
            "text/plain": [
              "<catboost.core.CatBoostClassifier at 0x7f5789bb76d0>"
            ]
          },
          "metadata": {},
          "execution_count": 1260
        }
      ]
    },
    {
      "cell_type": "code",
      "metadata": {
        "id": "r4nNKZcXU3e4"
      },
      "source": [
        "test_set_values[\"status_group\"]=full_train_model.predict(test_set_values)"
      ],
      "execution_count": 1261,
      "outputs": []
    },
    {
      "cell_type": "code",
      "metadata": {
        "id": "X4MmzYwNWUxj"
      },
      "source": [
        "test_pred=test_set_values[[\"status_group\"]]\n",
        "test_pred.to_csv('output_v8.csv', index=True)"
      ],
      "execution_count": 1262,
      "outputs": []
    },
    {
      "cell_type": "code",
      "metadata": {
        "id": "z_7Y07pV4dfE"
      },
      "source": [
        ""
      ],
      "execution_count": 1045,
      "outputs": []
    }
  ]
}